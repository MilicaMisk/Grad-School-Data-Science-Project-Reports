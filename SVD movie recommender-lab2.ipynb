{
 "cells": [
  {
   "cell_type": "markdown",
   "metadata": {
    "collapsed": true
   },
   "source": [
    "LAB 2 - Milica miskovic\n",
    "\n",
    "First, let us import all packages"
   ]
  },
  {
   "cell_type": "code",
   "execution_count": 2,
   "metadata": {},
   "outputs": [],
   "source": [
    "import pandas as pd\n",
    "import numpy as np\n",
    "import matplotlib as plt\n",
    "from sklearn.decomposition import PCA\n"
   ]
  },
  {
   "cell_type": "markdown",
   "metadata": {},
   "source": [
    "Then we read the data file into data frame"
   ]
  },
  {
   "cell_type": "code",
   "execution_count": 3,
   "metadata": {},
   "outputs": [
    {
     "name": "stdout",
     "output_type": "stream",
     "text": [
      "   UserID  MovieID  Rating\n",
      "0       1     1193       5\n",
      "1       1      661       3\n",
      "2       1      914       3\n",
      "3       1     3408       4\n",
      "4       1     2355       5\n"
     ]
    }
   ],
   "source": [
    "ratings = pd.read_csv('ratings.dat', sep=\"::\", header=None, engine='python')\n",
    "ratings.columns = ['UserID', 'MovieID', 'Rating', 'Timestamp']\n",
    "ratings.drop(['Timestamp'], axis=1, inplace=True)\n",
    "print(ratings[:5])"
   ]
  },
  {
   "cell_type": "markdown",
   "metadata": {},
   "source": [
    "1. Create m x u matrix with movies as row and users as column"
   ]
  },
  {
   "cell_type": "code",
   "execution_count": 148,
   "metadata": {},
   "outputs": [
    {
     "name": "stdout",
     "output_type": "stream",
     "text": [
      "UserID    1   2   3   4    5    6    7    8    9    10\n",
      "MovieID                                               \n",
      "1        5.0 NaN NaN NaN  NaN  4.0  NaN  4.0  5.0  5.0\n",
      "2        NaN NaN NaN NaN  NaN  NaN  NaN  NaN  NaN  5.0\n",
      "3        NaN NaN NaN NaN  NaN  NaN  NaN  NaN  NaN  NaN\n",
      "4        NaN NaN NaN NaN  NaN  NaN  NaN  3.0  NaN  NaN\n",
      "5        NaN NaN NaN NaN  NaN  NaN  NaN  NaN  NaN  NaN\n",
      "6        NaN NaN NaN NaN  2.0  NaN  4.0  NaN  NaN  NaN\n",
      "7        NaN NaN NaN NaN  NaN  NaN  NaN  NaN  NaN  4.0\n",
      "8        NaN NaN NaN NaN  NaN  NaN  NaN  NaN  NaN  NaN\n",
      "9        NaN NaN NaN NaN  NaN  NaN  NaN  NaN  NaN  NaN\n",
      "10       NaN NaN NaN NaN  NaN  NaN  NaN  NaN  NaN  NaN\n"
     ]
    }
   ],
   "source": [
    "ratings_pivot = ratings.pivot_table('Rating', index='MovieID', columns='UserID')\n",
    "print(ratings_pivot.iloc[0:10, 0:10])"
   ]
  },
  {
   "cell_type": "markdown",
   "metadata": {},
   "source": [
    "2. Normalize the matrix (we have to fill NaNs with 0 first, and call it matrix a)"
   ]
  },
  {
   "cell_type": "code",
   "execution_count": 135,
   "metadata": {},
   "outputs": [
    {
     "name": "stdout",
     "output_type": "stream",
     "text": [
      "(3706, 6040)\n",
      "[[ 9.81 -0.18 -0.11 -0.07 -0.22  7.18 -0.09  5.08  7.67  3.48]\n",
      " [-0.12 -0.18 -0.11 -0.07 -0.22 -0.14 -0.09 -0.19 -0.17  3.48]\n",
      " [-0.12 -0.18 -0.11 -0.07 -0.22 -0.14 -0.09 -0.19 -0.17 -0.34]\n",
      " [-0.12 -0.18 -0.11 -0.07 -0.22 -0.14 -0.09  3.76 -0.17 -0.34]\n",
      " [-0.12 -0.18 -0.11 -0.07 -0.22 -0.14 -0.09 -0.19 -0.17 -0.34]\n",
      " [-0.12 -0.18 -0.11 -0.07  2.43 -0.14  9.92 -0.19 -0.17 -0.34]\n",
      " [-0.12 -0.18 -0.11 -0.07 -0.22 -0.14 -0.09 -0.19 -0.17  2.72]\n",
      " [-0.12 -0.18 -0.11 -0.07 -0.22 -0.14 -0.09 -0.19 -0.17 -0.34]\n",
      " [-0.12 -0.18 -0.11 -0.07 -0.22 -0.14 -0.09 -0.19 -0.17 -0.34]\n",
      " [-0.12 -0.18 -0.11 -0.07 -0.22 -0.14 -0.09 -0.19 -0.17 -0.34]]\n"
     ]
    }
   ],
   "source": [
    "a = ratings_pivot.fillna(value=0, inplace=True)\n",
    "a = StandardScaler().fit_transform(ratings_pivot)\n",
    "print(a.shape)\n",
    "np.set_printoptions(precision=2)\n",
    "print(a[0:10, 0:10])"
   ]
  },
  {
   "cell_type": "code",
   "execution_count": 154,
   "metadata": {},
   "outputs": [
    {
     "name": "stdout",
     "output_type": "stream",
     "text": [
      "<class 'pandas.core.frame.DataFrame'>\n"
     ]
    },
    {
     "data": {
      "text/plain": [
       "array([   1,    2,    3, ..., 3950, 3951, 3952], dtype=int64)"
      ]
     },
     "execution_count": 154,
     "metadata": {},
     "output_type": "execute_result"
    }
   ],
   "source": [
    "print(type(ratings_pivot))\n",
    "ratings_pivot.index.values"
   ]
  },
  {
   "cell_type": "markdown",
   "metadata": {},
   "source": [
    "3. Compute SVD to get U, S and V"
   ]
  },
  {
   "cell_type": "code",
   "execution_count": 18,
   "metadata": {},
   "outputs": [],
   "source": [
    "U, Sigma, V = np.linalg.svd(a)"
   ]
  },
  {
   "cell_type": "markdown",
   "metadata": {},
   "source": [
    "4. From your V.T select 50 components."
   ]
  },
  {
   "cell_type": "code",
   "execution_count": 23,
   "metadata": {},
   "outputs": [],
   "source": [
    "V_T = V[:50]"
   ]
  },
  {
   "cell_type": "markdown",
   "metadata": {},
   "source": [
    "Shape of U ,S and V after reduction: "
   ]
  },
  {
   "cell_type": "code",
   "execution_count": 120,
   "metadata": {},
   "outputs": [
    {
     "name": "stdout",
     "output_type": "stream",
     "text": [
      "(3706, 3706)\n",
      "(3706,)\n",
      "(6040, 6040)\n",
      "(50, 6040)\n"
     ]
    }
   ],
   "source": [
    "print(U.shape)\n",
    "print(Sigma.shape)\n",
    "print(V.shape)\n",
    "print(V_T.shape)"
   ]
  },
  {
   "cell_type": "markdown",
   "metadata": {},
   "source": [
    "New, reduced matrix a we can recover by multiplying U ,S and V after reduction: "
   ]
  },
  {
   "cell_type": "code",
   "execution_count": 26,
   "metadata": {},
   "outputs": [
    {
     "name": "stdout",
     "output_type": "stream",
     "text": [
      "(3706, 50)\n"
     ]
    }
   ],
   "source": [
    "a_reduced = V_T.dot(a.T)\n",
    "a_reduced = a_reduced.T #we have to transpose in order to get movies as rows and components as columns\n",
    "print(a_reduced.shape)"
   ]
  },
  {
   "cell_type": "markdown",
   "metadata": {},
   "source": [
    "In order to have movie names, we have to import movies.dat file."
   ]
  },
  {
   "cell_type": "code",
   "execution_count": 27,
   "metadata": {},
   "outputs": [
    {
     "name": "stdout",
     "output_type": "stream",
     "text": [
      "   MovieID                               Title\n",
      "0        1                    Toy Story (1995)\n",
      "1        2                      Jumanji (1995)\n",
      "2        3             Grumpier Old Men (1995)\n",
      "3        4            Waiting to Exhale (1995)\n",
      "4        5  Father of the Bride Part II (1995)\n"
     ]
    }
   ],
   "source": [
    "movies = pd.read_csv('movies.dat', sep=\"::\", header=None, engine='python')\n",
    "movies.columns = ['MovieID', 'Title', 'Genres']\n",
    "movies.drop(['Genres'], axis=1, inplace=True)\n",
    "print(movies[:5])"
   ]
  },
  {
   "cell_type": "code",
   "execution_count": 141,
   "metadata": {},
   "outputs": [
    {
     "data": {
      "text/plain": [
       "'Jumanji (1995)'"
      ]
     },
     "execution_count": 141,
     "metadata": {},
     "output_type": "execute_result"
    }
   ],
   "source": [
    "movies.loc[1, 'Title'] #the second row is the movie with id 2, but not necessarily"
   ]
  },
  {
   "cell_type": "markdown",
   "metadata": {},
   "source": [
    "The function:"
   ]
  },
  {
   "cell_type": "code",
   "execution_count": 157,
   "metadata": {},
   "outputs": [],
   "source": [
    "def recommend(movie_id, matrix):\n",
    "\n",
    "# first we have to check if input is valid:\n",
    "    if isinstance(movie_id, int) and isinstance(movie_id, np.int) and movie_id > 0 and movie_id <= matrix.shape[0]:\n",
    "# initialize cos vector:\n",
    "        cos = np.zeros(matrix.shape[0])\n",
    "# find which row of a matrix is our movie:\n",
    "        movie_loc = ratings_pivot.index.get_loc(movie_id)\n",
    "# calculate cos sim between our movie and every other: \n",
    "        for i in range(0, matrix.shape[0]):\n",
    "            a = np.dot(matrix[movie_loc], matrix[i])\n",
    "            b = np.linalg.norm(matrix[movie_loc]) * np.linalg.norm(matrix[i])\n",
    "            cos[i] = abs(a/b)\n",
    "\n",
    "# sort in descending order:\n",
    "        order = np.argsort(-cos)\n",
    "# find ten best fits (the first one is going to be our movie): \n",
    "        ten = order[1:11]\n",
    "        print('Recommended movies are:')\n",
    "        print(ten)\n",
    "        ten_most_similar = movies.loc[movies['MovieID'].isin(ten)]\n",
    "\n",
    "    else:\n",
    "        print('Invalid movie ID.')\n",
    "    return(ten_most_similar)"
   ]
  },
  {
   "cell_type": "markdown",
   "metadata": {},
   "source": [
    "Let us try with movie ID 2, 'Jumanji (1995)':"
   ]
  },
  {
   "cell_type": "code",
   "execution_count": 158,
   "metadata": {
    "scrolled": true
   },
   "outputs": [
    {
     "name": "stdout",
     "output_type": "stream",
     "text": [
      "Recommended movies are:\n",
      "[3256  632   58 1980  308 1825  651 1787 3206 1873]\n"
     ]
    },
    {
     "data": {
      "text/html": [
       "<div>\n",
       "<style scoped>\n",
       "    .dataframe tbody tr th:only-of-type {\n",
       "        vertical-align: middle;\n",
       "    }\n",
       "\n",
       "    .dataframe tbody tr th {\n",
       "        vertical-align: top;\n",
       "    }\n",
       "\n",
       "    .dataframe thead th {\n",
       "        text-align: right;\n",
       "    }\n",
       "</style>\n",
       "<table border=\"1\" class=\"dataframe\">\n",
       "  <thead>\n",
       "    <tr style=\"text-align: right;\">\n",
       "      <th></th>\n",
       "      <th>MovieID</th>\n",
       "      <th>Title</th>\n",
       "    </tr>\n",
       "  </thead>\n",
       "  <tbody>\n",
       "    <tr>\n",
       "      <th>57</th>\n",
       "      <td>58</td>\n",
       "      <td>Postino, Il (The Postman) (1994)</td>\n",
       "    </tr>\n",
       "    <tr>\n",
       "      <th>305</th>\n",
       "      <td>308</td>\n",
       "      <td>Three Colors: White (1994)</td>\n",
       "    </tr>\n",
       "    <tr>\n",
       "      <th>627</th>\n",
       "      <td>632</td>\n",
       "      <td>Land and Freedom (Tierra y libertad) (1995)</td>\n",
       "    </tr>\n",
       "    <tr>\n",
       "      <th>645</th>\n",
       "      <td>651</td>\n",
       "      <td>Superweib, Das (1996)</td>\n",
       "    </tr>\n",
       "    <tr>\n",
       "      <th>1728</th>\n",
       "      <td>1787</td>\n",
       "      <td>Paralyzing Fear: The Story of Polio in America...</td>\n",
       "    </tr>\n",
       "    <tr>\n",
       "      <th>1758</th>\n",
       "      <td>1825</td>\n",
       "      <td>Player's Club, The (1998)</td>\n",
       "    </tr>\n",
       "    <tr>\n",
       "      <th>1804</th>\n",
       "      <td>1873</td>\n",
       "      <td>Misérables, Les (1998)</td>\n",
       "    </tr>\n",
       "    <tr>\n",
       "      <th>1911</th>\n",
       "      <td>1980</td>\n",
       "      <td>Friday the 13th Part VII: The New Blood (1988)</td>\n",
       "    </tr>\n",
       "    <tr>\n",
       "      <th>3137</th>\n",
       "      <td>3206</td>\n",
       "      <td>Against All Odds (1984)</td>\n",
       "    </tr>\n",
       "    <tr>\n",
       "      <th>3187</th>\n",
       "      <td>3256</td>\n",
       "      <td>Patriot Games (1992)</td>\n",
       "    </tr>\n",
       "  </tbody>\n",
       "</table>\n",
       "</div>"
      ],
      "text/plain": [
       "      MovieID                                              Title\n",
       "57         58                   Postino, Il (The Postman) (1994)\n",
       "305       308                         Three Colors: White (1994)\n",
       "627       632        Land and Freedom (Tierra y libertad) (1995)\n",
       "645       651                              Superweib, Das (1996)\n",
       "1728     1787  Paralyzing Fear: The Story of Polio in America...\n",
       "1758     1825                          Player's Club, The (1998)\n",
       "1804     1873                             Misérables, Les (1998)\n",
       "1911     1980     Friday the 13th Part VII: The New Blood (1988)\n",
       "3137     3206                            Against All Odds (1984)\n",
       "3187     3256                               Patriot Games (1992)"
      ]
     },
     "execution_count": 158,
     "metadata": {},
     "output_type": "execute_result"
    }
   ],
   "source": [
    "recommend(2, a_reduced)"
   ]
  },
  {
   "cell_type": "markdown",
   "metadata": {},
   "source": [
    "6. Repeat the same process except now instead of using SVD you will use PCA to get the eigenvectors.\n",
    "7. You will require co-variance matrix as an input to your eig function.\n",
    "\n",
    "Matrix a is already standardized and NaNs are filled with 0. "
   ]
  },
  {
   "cell_type": "markdown",
   "metadata": {},
   "source": [
    "Eigenvectors and eigenvalues:"
   ]
  },
  {
   "cell_type": "code",
   "execution_count": 131,
   "metadata": {},
   "outputs": [
    {
     "name": "stdout",
     "output_type": "stream",
     "text": [
      "(6040, 6040)\n"
     ]
    }
   ],
   "source": [
    "cov_mat = np.cov(a.T)\n",
    "print(cov_mat.shape)"
   ]
  },
  {
   "cell_type": "code",
   "execution_count": 132,
   "metadata": {},
   "outputs": [],
   "source": [
    "eig_vals, eig_vecs = np.linalg.eig(cov_mat)"
   ]
  },
  {
   "cell_type": "code",
   "execution_count": 53,
   "metadata": {},
   "outputs": [
    {
     "name": "stdout",
     "output_type": "stream",
     "text": [
      "(6040, 50)\n"
     ]
    }
   ],
   "source": [
    "eig_pairs = [(np.abs(eig_vals[i]), eig_vecs[:,i]) for i in range(len(eig_vals))]\n",
    "eig_pairs_sorted = sorted(eig_pairs, key=lambda x: x[0])\n",
    "\n",
    "eig_vec_reduced = np.stack([vec for val, vec in eig_pairs[:50]], axis=1)\n",
    "print(eig_vec_reduced.shape)\n"
   ]
  },
  {
   "cell_type": "markdown",
   "metadata": {},
   "source": [
    "8. Use that same steps after that to get 50 components and use cosine similarity to get the results."
   ]
  },
  {
   "cell_type": "code",
   "execution_count": 54,
   "metadata": {},
   "outputs": [
    {
     "name": "stdout",
     "output_type": "stream",
     "text": [
      "(3706, 6040)\n",
      "(6040, 50)\n",
      "(3706, 50)\n"
     ]
    }
   ],
   "source": [
    "a_reduced_PCA = np.matmul(a, eig_vec_reduced)\n",
    "print(a.shape)\n",
    "print(eig_vec_reduced.shape)\n",
    "print(a_reduced_PCA.shape)"
   ]
  },
  {
   "cell_type": "code",
   "execution_count": 159,
   "metadata": {},
   "outputs": [
    {
     "name": "stdout",
     "output_type": "stream",
     "text": [
      "Recommended movies are:\n",
      "[3256  632   58 1980  308 1825  651 1787 3206 1873]\n"
     ]
    },
    {
     "data": {
      "text/html": [
       "<div>\n",
       "<style scoped>\n",
       "    .dataframe tbody tr th:only-of-type {\n",
       "        vertical-align: middle;\n",
       "    }\n",
       "\n",
       "    .dataframe tbody tr th {\n",
       "        vertical-align: top;\n",
       "    }\n",
       "\n",
       "    .dataframe thead th {\n",
       "        text-align: right;\n",
       "    }\n",
       "</style>\n",
       "<table border=\"1\" class=\"dataframe\">\n",
       "  <thead>\n",
       "    <tr style=\"text-align: right;\">\n",
       "      <th></th>\n",
       "      <th>MovieID</th>\n",
       "      <th>Title</th>\n",
       "    </tr>\n",
       "  </thead>\n",
       "  <tbody>\n",
       "    <tr>\n",
       "      <th>57</th>\n",
       "      <td>58</td>\n",
       "      <td>Postino, Il (The Postman) (1994)</td>\n",
       "    </tr>\n",
       "    <tr>\n",
       "      <th>305</th>\n",
       "      <td>308</td>\n",
       "      <td>Three Colors: White (1994)</td>\n",
       "    </tr>\n",
       "    <tr>\n",
       "      <th>627</th>\n",
       "      <td>632</td>\n",
       "      <td>Land and Freedom (Tierra y libertad) (1995)</td>\n",
       "    </tr>\n",
       "    <tr>\n",
       "      <th>645</th>\n",
       "      <td>651</td>\n",
       "      <td>Superweib, Das (1996)</td>\n",
       "    </tr>\n",
       "    <tr>\n",
       "      <th>1728</th>\n",
       "      <td>1787</td>\n",
       "      <td>Paralyzing Fear: The Story of Polio in America...</td>\n",
       "    </tr>\n",
       "    <tr>\n",
       "      <th>1758</th>\n",
       "      <td>1825</td>\n",
       "      <td>Player's Club, The (1998)</td>\n",
       "    </tr>\n",
       "    <tr>\n",
       "      <th>1804</th>\n",
       "      <td>1873</td>\n",
       "      <td>Misérables, Les (1998)</td>\n",
       "    </tr>\n",
       "    <tr>\n",
       "      <th>1911</th>\n",
       "      <td>1980</td>\n",
       "      <td>Friday the 13th Part VII: The New Blood (1988)</td>\n",
       "    </tr>\n",
       "    <tr>\n",
       "      <th>3137</th>\n",
       "      <td>3206</td>\n",
       "      <td>Against All Odds (1984)</td>\n",
       "    </tr>\n",
       "    <tr>\n",
       "      <th>3187</th>\n",
       "      <td>3256</td>\n",
       "      <td>Patriot Games (1992)</td>\n",
       "    </tr>\n",
       "  </tbody>\n",
       "</table>\n",
       "</div>"
      ],
      "text/plain": [
       "      MovieID                                              Title\n",
       "57         58                   Postino, Il (The Postman) (1994)\n",
       "305       308                         Three Colors: White (1994)\n",
       "627       632        Land and Freedom (Tierra y libertad) (1995)\n",
       "645       651                              Superweib, Das (1996)\n",
       "1728     1787  Paralyzing Fear: The Story of Polio in America...\n",
       "1758     1825                          Player's Club, The (1998)\n",
       "1804     1873                             Misérables, Les (1998)\n",
       "1911     1980     Friday the 13th Part VII: The New Blood (1988)\n",
       "3137     3206                            Against All Odds (1984)\n",
       "3187     3256                               Patriot Games (1992)"
      ]
     },
     "execution_count": 159,
     "metadata": {},
     "output_type": "execute_result"
    }
   ],
   "source": [
    "recommend(2, a_reduced_PCA) "
   ]
  },
  {
   "cell_type": "markdown",
   "metadata": {},
   "source": [
    "9. Compare the results for SVD and PCA."
   ]
  },
  {
   "cell_type": "code",
   "execution_count": 162,
   "metadata": {},
   "outputs": [
    {
     "name": "stdout",
     "output_type": "stream",
     "text": [
      "10 recommended movies for the movie with id 2, Jumanji (1995) using SVD:\n",
      "Recommended movies are:\n",
      "[3256  632   58 1980  308 1825  651 1787 3206 1873]\n",
      "      MovieID                                              Title\n",
      "57         58                   Postino, Il (The Postman) (1994)\n",
      "305       308                         Three Colors: White (1994)\n",
      "627       632        Land and Freedom (Tierra y libertad) (1995)\n",
      "645       651                              Superweib, Das (1996)\n",
      "1728     1787  Paralyzing Fear: The Story of Polio in America...\n",
      "1758     1825                          Player's Club, The (1998)\n",
      "1804     1873                             Misérables, Les (1998)\n",
      "1911     1980     Friday the 13th Part VII: The New Blood (1988)\n",
      "3137     3206                            Against All Odds (1984)\n",
      "3187     3256                               Patriot Games (1992)\n"
     ]
    }
   ],
   "source": [
    "print('10 recommended movies for the movie with id 2, Jumanji (1995) using SVD:')\n",
    "print(recommend(2, a_reduced))"
   ]
  },
  {
   "cell_type": "code",
   "execution_count": 125,
   "metadata": {},
   "outputs": [
    {
     "name": "stdout",
     "output_type": "stream",
     "text": [
      "10 recommended movies for the movie with id 2, Jumanji (1995) using PCA:\n",
      "[3256  632   58 1980  308 1825  651 1787 3206 1873]\n",
      "      MovieID                                              Title\n",
      "57         58                   Postino, Il (The Postman) (1994)\n",
      "305       308                         Three Colors: White (1994)\n",
      "627       632        Land and Freedom (Tierra y libertad) (1995)\n",
      "645       651                              Superweib, Das (1996)\n",
      "1728     1787  Paralyzing Fear: The Story of Polio in America...\n",
      "1758     1825                          Player's Club, The (1998)\n",
      "1804     1873                             Misérables, Les (1998)\n",
      "1911     1980     Friday the 13th Part VII: The New Blood (1988)\n",
      "3137     3206                            Against All Odds (1984)\n",
      "3187     3256                               Patriot Games (1992)\n"
     ]
    }
   ],
   "source": [
    "print('10 recommended movies for the movie with id 2, Jumanji (1995) using PCA:')\n",
    "print(recommend(2, a_reduced_PCA))"
   ]
  },
  {
   "cell_type": "markdown",
   "metadata": {},
   "source": [
    "As we can see, both lists are the same."
   ]
  }
 ],
 "metadata": {
  "kernelspec": {
   "display_name": "Python 3",
   "language": "python",
   "name": "python3"
  },
  "language_info": {
   "codemirror_mode": {
    "name": "ipython",
    "version": 3
   },
   "file_extension": ".py",
   "mimetype": "text/x-python",
   "name": "python",
   "nbconvert_exporter": "python",
   "pygments_lexer": "ipython3",
   "version": "3.7.0"
  }
 },
 "nbformat": 4,
 "nbformat_minor": 1
}
